{
 "cells": [
  {
   "cell_type": "markdown",
   "metadata": {},
   "source": [
    "# Asymptotic Analysis & Data Structures\n",
    "\n",
    "### Topics to discuss today:\n",
    "\n",
    "<ul>\n",
    "    <li>What is Asymptotic Analysis?</li>\n",
    "    <li>Classifying time complexities</li>\n",
    "    <li>Classifying space complexities</li>\n",
    "    <li>Implementing a LinkedList</li>\n",
    "</ul>"
   ]
  },
  {
   "cell_type": "markdown",
   "metadata": {},
   "source": [
    "### What is Asymptotic Analysis?\n",
    "\n",
    "Asymptotic analysis refers to setting mathematical bounds of an algorithms run-time performance. Asymptotic analysis is used for estimating time and space complexity.\n",
    "\n",
    "There are three metrics we measure:\n",
    "<ul>\n",
    "<li><b>Best Case</b> − Minimum time required for running.</li>\n",
    "<li><b>Average Case</b> − Average time required for running.</li>\n",
    "<li><b>Worst Case</b> − Maximum time required for running.</li>\n",
    "</ul>\n",
    "\n",
    "Here are the two major asymptotic notations that we'll be focusing on today:\n",
    "<ul>\n",
    "<li>Ο Notation (Big O Notation)</li>\n",
    "<li>Ω Notation (Omega Notation)</li>\n",
    "</ul>\n",
    "\n",
    "#### Big O Notation\n",
    "Big O notation expresses the <b>upper bound</b> of an algorithm's execution time. This measures the <b>worst case</b> time complexity.\n",
    "\n",
    "#### Omega Notation\n",
    "Omega notation expresses the <b>lower bound</b> of an algorithm's execution time. This measures the <b>best case</b> time complexity."
   ]
  },
  {
   "cell_type": "markdown",
   "metadata": {},
   "source": [
    "\n",
    "\n",
    "<table style=\"text-align:left;\" class=\"table table-bordered\">\n",
    "    <thead>\n",
    "        <tr>\n",
    "            <th>Name</th>\n",
    "            <th>Time Complexity</th>\n",
    "        </tr>\n",
    "    </thead>\n",
    "\n",
    "  <tr>\n",
    "<td>constant</td>\n",
    "<td>Ο(1)</td>\n",
    "</tr>\n",
    "<tr>\n",
    "<td>logarithmic</td>\n",
    "<td>Ο(log n)</td>\n",
    "</tr>\n",
    "<tr>\n",
    "<td>linear</td>\n",
    "<td>Ο(n)</td>\n",
    "</tr>\n",
    "<tr>\n",
    "<td>n log n</td>\n",
    "<td>Ο(n log n)</td>\n",
    "</tr>\n",
    "<tr>\n",
    "<td>quadratic</td>\n",
    "<td>Ο(n<sup>2</sup>)</td>\n",
    "</tr>\n",
    "<tr>\n",
    "<td>cubic</td>\n",
    "<td>Ο(n<sup>3</sup>)</td>\n",
    "</tr>\n",
    "<tr>\n",
    "<td>polynomial</td>\n",
    "<td>n<sup>Ο(1)</sup></td>\n",
    "</tr>\n",
    "<tr>\n",
    "<td>exponential</td>\n",
    "<td>2<sup>Ο(n)</sup></td>\n",
    "</tr>\n",
    "</table>\n",
    "\n",
    "Extra resources:\n",
    "https://www.youtube.com/watch?v=0oDAlMwTrLo"
   ]
  },
  {
   "cell_type": "markdown",
   "metadata": {},
   "source": [
    "##### O(1) Example\n",
    "No matter the size of the input data, the execution time will always be the same"
   ]
  },
  {
   "cell_type": "code",
   "execution_count": 2,
   "metadata": {},
   "outputs": [],
   "source": [
    "def add(a,b):\n",
    "    return a + b"
   ]
  },
  {
   "cell_type": "code",
   "execution_count": 3,
   "metadata": {},
   "outputs": [
    {
     "name": "stdout",
     "output_type": "stream",
     "text": [
      "90.2 ns ± 3.15 ns per loop (mean ± std. dev. of 7 runs, 10000000 loops each)\n"
     ]
    }
   ],
   "source": [
    "%timeit add (10,10)"
   ]
  },
  {
   "cell_type": "markdown",
   "metadata": {},
   "source": [
    "##### O(n) Example\n",
    "The execution time increases linearly with the length of the input. For each growth in size of the input, the time it takes to run increases by the same amount."
   ]
  },
  {
   "cell_type": "code",
   "execution_count": 4,
   "metadata": {},
   "outputs": [],
   "source": [
    "def my_sum(a_list):\n",
    "    result = 0\n",
    "    \n",
    "    for item in a_list:\n",
    "        result += item\n",
    "        \n",
    "    return result"
   ]
  },
  {
   "cell_type": "code",
   "execution_count": 5,
   "metadata": {},
   "outputs": [
    {
     "name": "stdout",
     "output_type": "stream",
     "text": [
      "284 ns ± 6.55 ns per loop (mean ± std. dev. of 7 runs, 1000000 loops each)\n"
     ]
    }
   ],
   "source": [
    "%timeit my_sum([1,2,3,4])"
   ]
  },
  {
   "cell_type": "code",
   "execution_count": 7,
   "metadata": {},
   "outputs": [
    {
     "name": "stdout",
     "output_type": "stream",
     "text": [
      "398 ns ± 1.33 ns per loop (mean ± std. dev. of 7 runs, 1000000 loops each)\n"
     ]
    }
   ],
   "source": [
    "%timeit my_sum([1,2,3,4,5,6,7,8])"
   ]
  },
  {
   "cell_type": "code",
   "execution_count": 10,
   "metadata": {},
   "outputs": [],
   "source": [
    "#  O(n + n) => O(2n) => O(n) <- Simplify out the constants\n",
    "\n",
    "def sum_product(a_list):\n",
    "    sum_result = 0\n",
    "    # O(n)\n",
    "    for item in a_list:\n",
    "        sum_result += item\n",
    "        \n",
    "    product_result = 1\n",
    "    # O(n)\n",
    "    for item in a_list:\n",
    "        product_result *= item\n",
    "        \n",
    "    return (sum_result, product_result)"
   ]
  },
  {
   "cell_type": "code",
   "execution_count": null,
   "metadata": {},
   "outputs": [],
   "source": []
  },
  {
   "cell_type": "markdown",
   "metadata": {},
   "source": [
    "##### O(log(n))\n",
    "A logarithmic time complexity increases linearly as the input increases exponentially. Usually this occurs when we decrease the size of our input as we move through our algorithm. It is O(log(n)) when we do divide and conquer type of algorithms like binary search. \n",
    "\n",
    "Additional Explanations:\n",
    "https://www.youtube.com/watch?v=wjDY5RbILno\n"
   ]
  },
  {
   "cell_type": "code",
   "execution_count": 40,
   "metadata": {},
   "outputs": [
    {
     "name": "stdout",
     "output_type": "stream",
     "text": [
      "Target 4 found at index 3. Steps taken 4\n",
      "Target found in 4 steps\n",
      "Target 30 found at index 30. Steps taken 4\n",
      "Target found in 31 steps\n"
     ]
    }
   ],
   "source": [
    "# Binary Search on sorted list\n",
    "\"\"\"\n",
    "Looked at both ends \n",
    "checked the middle\n",
    "if higher \n",
    "moved one end \n",
    "rechecked middle\n",
    "until target\n",
    "\"\"\"\n",
    "\n",
    "def binary_search(alist, target):\n",
    "    steps = 0\n",
    "    left,right = 0, len(alist) - 1\n",
    "    while left <= right:\n",
    "        steps += 1\n",
    "        middle = (left + right) // 2\n",
    "        if alist[middle] == target:\n",
    "            return f'Target {target} found at index {middle}. Steps taken {steps}'\n",
    "        elif alist[middle] > target:\n",
    "            right = middle - 1\n",
    "        else:\n",
    "            left = middle + 1\n",
    "    return f'Target {target} was not found'\n",
    "\n",
    "def linear_search(alist, target):\n",
    "    steps = 0\n",
    "    for num in alist:\n",
    "        steps += 1\n",
    "        if num == target:\n",
    "            return f'Target found in {steps} steps'\n",
    "\n",
    "print(binary_search([1,2,3,4,5,6,7,8,9], 4))\n",
    "print(linear_search([1,2,3,4,5,6,7,8,9], 4))\n",
    "print(binary_search(list(range(100)), 30))\n",
    "print(linear_search(list(range(100)), 30))"
   ]
  },
  {
   "cell_type": "markdown",
   "metadata": {},
   "source": [
    "###### O(n^2) Example\n",
    "When an algorithm needs to perform a linear time operation for each value in the input data"
   ]
  },
  {
   "cell_type": "code",
   "execution_count": 16,
   "metadata": {},
   "outputs": [],
   "source": [
    "num_list_1 = [1,2,3,4]\n",
    "num_list_2 = [5,3,21,1]\n",
    "def build_combos(list_a,list_b):\n",
    "    result_list = []\n",
    "    for item_a in list_a:\n",
    "        for item_b in list_b:\n",
    "            result_list.append([item_a, item_b])\n",
    "    return  result_list"
   ]
  },
  {
   "cell_type": "code",
   "execution_count": 17,
   "metadata": {},
   "outputs": [
    {
     "data": {
      "text/plain": [
       "[[1, 5],\n",
       " [1, 3],\n",
       " [1, 21],\n",
       " [1, 1],\n",
       " [2, 5],\n",
       " [2, 3],\n",
       " [2, 21],\n",
       " [2, 1],\n",
       " [3, 5],\n",
       " [3, 3],\n",
       " [3, 21],\n",
       " [3, 1],\n",
       " [4, 5],\n",
       " [4, 3],\n",
       " [4, 21],\n",
       " [4, 1]]"
      ]
     },
     "execution_count": 17,
     "metadata": {},
     "output_type": "execute_result"
    }
   ],
   "source": [
    "build_combos(num_list_1,num_list_2)"
   ]
  },
  {
   "cell_type": "markdown",
   "metadata": {},
   "source": [
    "### In-Class Exercise\n",
    "In a comment in the following three cells, classify each algorithm into one of the time complexities discussed above."
   ]
  },
  {
   "cell_type": "code",
   "execution_count": 26,
   "metadata": {},
   "outputs": [
    {
     "name": "stdout",
     "output_type": "stream",
     "text": [
      "1 2\n",
      "1 3\n",
      "1 4\n",
      "2 3\n",
      "2 4\n",
      "3 4\n"
     ]
    }
   ],
   "source": [
    "def two_sum_loops(nums, target):\n",
    "#     O(n)\n",
    "    for i, num in enumerate(nums):\n",
    "#         O(n)\n",
    "        for j, num2 in enumerate(nums[i + 1:]):\n",
    "            print(num, num2)\n",
    "#             if target - num == num2:\n",
    "#                 return [i,j+i+1]\n",
    "            \n",
    "two_sum_loops([1,2,3,4], 6)"
   ]
  },
  {
   "cell_type": "code",
   "execution_count": 3,
   "metadata": {},
   "outputs": [],
   "source": [
    "def two_sum(nums, target):\n",
    "    d={}\n",
    "#     O(n)\n",
    "    for i, num in enumerate(nums):\n",
    "#         O(1) if d was a list it was be a O(n)\n",
    "        if target - num in d:\n",
    "            return [d[target-num],i]\n",
    "#         O(1)\n",
    "        d[num]=i\n",
    "    return -1\n",
    "\n"
   ]
  },
  {
   "cell_type": "code",
   "execution_count": 14,
   "metadata": {},
   "outputs": [],
   "source": [
    "def check_if_num_in_list(a_list, value):\n",
    "#     O(n)\n",
    "    return value in a_list\n"
   ]
  },
  {
   "cell_type": "code",
   "execution_count": 27,
   "metadata": {},
   "outputs": [
    {
     "name": "stdout",
     "output_type": "stream",
     "text": [
      "1\n",
      "3\n",
      "4\n",
      "5\n"
     ]
    }
   ],
   "source": [
    "# O(N**2 + N) => O(N**2)\n",
    "\n",
    "def two_sum_loops(nums, target):\n",
    "#     O(n)\n",
    "    for i, num in enumerate(nums):\n",
    "#         O(n)\n",
    "        for j, num2 in enumerate(nums[i + 1:]):\n",
    "#         O(1)\n",
    "            if target - num == num2:\n",
    "                print([i,j+i+1])\n",
    "            \n",
    "#           O(n)      \n",
    "    for item in nums:\n",
    "        print(item)\n",
    "        \n",
    "two_sum_loops([1,3,4,5], 10)"
   ]
  },
  {
   "cell_type": "markdown",
   "metadata": {},
   "source": [
    "## Space Complexity\n",
    "Space complexity refers to the total amount of memory space that is consumed by an algorithm. This value includes both any new values created as well as well as input values\n",
    "\n",
    "We'll use Big O notation for space complexity as well. In this case, Big O gives the worst-case of an algorithm’s growth rate. \n",
    "\n",
    "\"The space this algorithm takes will grow no more quickly than this, but it could grow more slowly.\""
   ]
  },
  {
   "cell_type": "markdown",
   "metadata": {},
   "source": [
    "###### O(1) Example"
   ]
  },
  {
   "cell_type": "code",
   "execution_count": 42,
   "metadata": {},
   "outputs": [],
   "source": [
    "def add(num1, num2):\n",
    "    return num1 + num2"
   ]
  },
  {
   "cell_type": "code",
   "execution_count": 43,
   "metadata": {},
   "outputs": [
    {
     "name": "stdout",
     "output_type": "stream",
     "text": [
      "21\n"
     ]
    }
   ],
   "source": [
    "def my_sum(alist):\n",
    "    result = 0\n",
    "    \n",
    "    for item in alist:\n",
    "        result += item\n",
    "        \n",
    "    return result\n",
    "\n",
    "numbers = [1,2,3,4,5,6]\n",
    "print(my_sum(numbers))"
   ]
  },
  {
   "cell_type": "markdown",
   "metadata": {},
   "source": [
    "###### O(n) Example\n",
    "Input Space: O(n) <- This comes from aList in the input\n",
    "Auxiliary Space: O(1) <- The only variables created in the function are integers\n",
    "\n",
    "Total Space: O(n + 1) or O(n)"
   ]
  },
  {
   "cell_type": "code",
   "execution_count": 50,
   "metadata": {},
   "outputs": [],
   "source": [
    "from random import randint\n",
    "\n",
    "def build_list(size):\n",
    "    result = []\n",
    "    result_2 = []\n",
    "    \n",
    "    for i in range(size):\n",
    "        result.append(randint(1,100))\n",
    "        result_2.append(randint(101,200))\n",
    "    return result\n"
   ]
  },
  {
   "cell_type": "code",
   "execution_count": 51,
   "metadata": {},
   "outputs": [
    {
     "data": {
      "text/plain": [
       "[29, 30, 6, 20, 13, 96, 24, 75, 20, 70]"
      ]
     },
     "execution_count": 51,
     "metadata": {},
     "output_type": "execute_result"
    }
   ],
   "source": [
    "build_list(10)"
   ]
  },
  {
   "cell_type": "code",
   "execution_count": 52,
   "metadata": {},
   "outputs": [
    {
     "data": {
      "text/plain": [
       "[37, 58, 32, 2, 59, 56, 17, 61, 76, 33, 65, 60, 93, 39, 23, 41, 5, 12, 89, 38]"
      ]
     },
     "execution_count": 52,
     "metadata": {},
     "output_type": "execute_result"
    }
   ],
   "source": [
    "build_list(20)"
   ]
  },
  {
   "cell_type": "markdown",
   "metadata": {},
   "source": [
    "The recursive calls generate new function calls in the stack. Each call on the stack stores a separate copy of the variables defined in the function. The array is passed by reference so a separate copy of the array is not created for each function call. As we can have O(log(n)) calls to the function, the space complexity of the recursive version should include the O(log(n)) auxiliary space. Hence, the overall space complexity is:\n",
    "\n",
    "Input space: O(n)\n",
    "Auxiliary space: O(log n)\n",
    "\n",
    "Total Space: O(n + log n) OR O(n)"
   ]
  },
  {
   "cell_type": "markdown",
   "metadata": {},
   "source": [
    "# O(n^2)"
   ]
  },
  {
   "cell_type": "code",
   "execution_count": 53,
   "metadata": {},
   "outputs": [
    {
     "data": {
      "text/plain": [
       "[[82, 74, 4, 46, 60, 82, 23, 62, 71, 36],\n",
       " [68, 74, 35, 54, 29, 65, 80, 97, 97, 76],\n",
       " [72, 83, 76, 56, 9, 90, 45, 83, 6, 24],\n",
       " [94, 63, 67, 13, 58, 72, 22, 2, 10, 77],\n",
       " [18, 33, 43, 65, 14, 41, 14, 46, 23, 95],\n",
       " [34, 97, 20, 92, 46, 73, 75, 41, 5, 58],\n",
       " [92, 66, 40, 89, 70, 33, 40, 24, 24, 77],\n",
       " [70, 19, 5, 63, 37, 57, 49, 26, 82, 17],\n",
       " [38, 38, 4, 84, 70, 67, 15, 58, 95, 28],\n",
       " [74, 41, 55, 9, 88, 66, 42, 40, 36, 70]]"
      ]
     },
     "execution_count": 53,
     "metadata": {},
     "output_type": "execute_result"
    }
   ],
   "source": [
    "from random import randint\n",
    "\n",
    "def build_matrix(size):\n",
    "    result = []\n",
    "    \n",
    "    for i in range(size):\n",
    "        inner_list = []\n",
    "        \n",
    "        for j in range(size):\n",
    "            inner_list.append(randint(1,100))\n",
    "            \n",
    "        result.append(inner_list)\n",
    "        \n",
    "    return result\n",
    "\n",
    "build_matrix(10)"
   ]
  }
 ],
 "metadata": {
  "kernelspec": {
   "display_name": "Python 3 (ipykernel)",
   "language": "python",
   "name": "python3"
  },
  "language_info": {
   "codemirror_mode": {
    "name": "ipython",
    "version": 3
   },
   "file_extension": ".py",
   "mimetype": "text/x-python",
   "name": "python",
   "nbconvert_exporter": "python",
   "pygments_lexer": "ipython3",
   "version": "3.9.13"
  }
 },
 "nbformat": 4,
 "nbformat_minor": 2
}
